{
 "cells": [
  {
   "cell_type": "code",
   "execution_count": 1,
   "metadata": {},
   "outputs": [],
   "source": [
    "import pandas as pd\n",
    "import numpy as np\n",
    "from tqdm import tqdm"
   ]
  },
  {
   "cell_type": "code",
   "execution_count": 2,
   "metadata": {},
   "outputs": [
    {
     "name": "stderr",
     "output_type": "stream",
     "text": [
      "  0%|          | 0/8 [00:00<?, ?it/s]"
     ]
    },
    {
     "name": "stdout",
     "output_type": "stream",
     "text": [
      "增加日期\n",
      "修改时间\n",
      "增加小时\n",
      "增加早高峰/晚高峰\n",
      "增加位置\n",
      "增加OD间的距离\n",
      "删除极短距离行程\n",
      "为距离增加分组信息\n",
      "增加红绿灯信息\n"
     ]
    },
    {
     "name": "stderr",
     "output_type": "stream",
     "text": [
      " 12%|█▎        | 1/8 [00:43<05:06, 43.73s/it]"
     ]
    },
    {
     "name": "stdout",
     "output_type": "stream",
     "text": [
      "增加日期\n",
      "修改时间\n",
      "增加小时\n",
      "增加早高峰/晚高峰\n",
      "增加位置\n",
      "增加OD间的距离\n",
      "删除极短距离行程\n",
      "为距离增加分组信息\n",
      "增加红绿灯信息\n"
     ]
    },
    {
     "name": "stderr",
     "output_type": "stream",
     "text": [
      " 25%|██▌       | 2/8 [01:27<04:23, 43.91s/it]"
     ]
    },
    {
     "name": "stdout",
     "output_type": "stream",
     "text": [
      "增加日期\n",
      "修改时间\n",
      "增加小时\n",
      "增加早高峰/晚高峰\n",
      "增加位置\n",
      "增加OD间的距离\n",
      "删除极短距离行程\n",
      "为距离增加分组信息\n",
      "增加红绿灯信息\n"
     ]
    },
    {
     "name": "stderr",
     "output_type": "stream",
     "text": [
      " 38%|███▊      | 3/8 [02:12<03:40, 44.17s/it]"
     ]
    },
    {
     "name": "stdout",
     "output_type": "stream",
     "text": [
      "增加日期\n",
      "修改时间\n",
      "增加小时\n",
      "增加早高峰/晚高峰\n",
      "增加位置\n",
      "增加OD间的距离\n",
      "删除极短距离行程\n",
      "为距离增加分组信息\n",
      "增加红绿灯信息\n"
     ]
    },
    {
     "name": "stderr",
     "output_type": "stream",
     "text": [
      " 50%|█████     | 4/8 [02:57<02:58, 44.53s/it]"
     ]
    },
    {
     "name": "stdout",
     "output_type": "stream",
     "text": [
      "增加日期\n",
      "修改时间\n",
      "增加小时\n",
      "增加早高峰/晚高峰\n",
      "增加位置\n",
      "增加OD间的距离\n",
      "删除极短距离行程\n",
      "为距离增加分组信息\n",
      "增加红绿灯信息\n"
     ]
    },
    {
     "name": "stderr",
     "output_type": "stream",
     "text": [
      " 62%|██████▎   | 5/8 [03:42<02:14, 44.93s/it]"
     ]
    },
    {
     "name": "stdout",
     "output_type": "stream",
     "text": [
      "增加日期\n",
      "修改时间\n",
      "增加小时\n",
      "增加早高峰/晚高峰\n",
      "增加位置\n",
      "增加OD间的距离\n",
      "删除极短距离行程\n",
      "为距离增加分组信息\n",
      "增加红绿灯信息\n"
     ]
    },
    {
     "name": "stderr",
     "output_type": "stream",
     "text": [
      " 75%|███████▌  | 6/8 [04:29<01:31, 45.58s/it]"
     ]
    },
    {
     "name": "stdout",
     "output_type": "stream",
     "text": [
      "增加日期\n",
      "修改时间\n",
      "增加小时\n",
      "增加早高峰/晚高峰\n",
      "增加位置\n",
      "增加OD间的距离\n",
      "删除极短距离行程\n",
      "为距离增加分组信息\n",
      "增加红绿灯信息\n"
     ]
    },
    {
     "name": "stderr",
     "output_type": "stream",
     "text": [
      " 88%|████████▊ | 7/8 [05:18<00:46, 46.55s/it]"
     ]
    },
    {
     "name": "stdout",
     "output_type": "stream",
     "text": [
      "增加日期\n",
      "修改时间\n",
      "增加小时\n",
      "增加早高峰/晚高峰\n",
      "增加位置\n",
      "增加OD间的距离\n",
      "删除极短距离行程\n",
      "为距离增加分组信息\n",
      "增加红绿灯信息\n"
     ]
    },
    {
     "name": "stderr",
     "output_type": "stream",
     "text": [
      "100%|██████████| 8/8 [06:08<00:00, 46.09s/it]\n"
     ]
    }
   ],
   "source": [
    "n_lst = [10,20,40,60,80,100,150,200]\n",
    "num_of_cells = 8000\n",
    "\n",
    "gaps_between_traffic_lights = 1000\n",
    "num_of_traffic_lights = num_of_cells // gaps_between_traffic_lights\n",
    "\n",
    "gaps_between_digs = 100\n",
    "num_of_digs = num_of_cells // gaps_between_digs\n",
    "\n",
    "min_dist = 100\n",
    "group_dist = 100\n",
    "\n",
    "for n in tqdm(n_lst):\n",
    "    df = pd.read_csv(f\"data/3_VehicleData_2024112112250124_{n}.csv\",encoding='utf-8')\n",
    "    df['Travel Time'] = df['Arrival Time'] - df['In Time'] \n",
    "    df = df[df['Travel Time']>0].reset_index(drop=True)\n",
    "\n",
    "    # 增加日期\n",
    "    print(\"增加日期\")\n",
    "    df['Date'] = df['In Time'] // 57600   \n",
    "\n",
    "\n",
    "    # 将InTime修改为当日的数据\n",
    "    print(\"修改时间\")\n",
    "    df['Actual In Time'] = df['In Time'] % 57600  \n",
    "    df['Actual Arrival Time'] = df['Arrival Time'] % 57600\n",
    "\n",
    "\n",
    "    # 增加小时\n",
    "    print(\"增加小时\")\n",
    "    df['Hour'] = (df['Actual In Time'] // 57600).clip(upper=23)\n",
    "    df['Quarter'] = (df['Actual In Time'] - df['Date'] * 57600) // 600\n",
    "\n",
    "\n",
    "    # 是否处于早高峰/晚高峰\n",
    "    print(\"增加早高峰/晚高峰\")\n",
    "    df['Early Commute'] = ((df['Hour'] >= 7) & (df['Hour'] <= 10)).astype(int)\n",
    "    df['Late Commute'] = ((df['Hour'] >= 17) & (df['Hour'] <= 20)).astype(int) \n",
    "\n",
    "\n",
    "    # 增加位置\n",
    "    print(\"增加位置\")\n",
    "    df['O Route'] = np.where(\n",
    "                                     df['Origin'] == 0,\n",
    "                                     num_of_traffic_lights - 1,\n",
    "                                     df['Origin'] // gaps_between_traffic_lights\n",
    "                                 )\n",
    "    df['D Route'] = np.where(\n",
    "                                     df['Destination'] == 0,\n",
    "                                     num_of_traffic_lights - 1,\n",
    "                                     df['Destination'] // gaps_between_traffic_lights\n",
    "                                 )\n",
    "\n",
    "    df['OD Route'] = df.apply(lambda row: str(row['O Route'])+'_'+str(row['D Route']),axis=1)\n",
    "\n",
    "    df['O Dig'] = np.where(\n",
    "                                     df['Origin'] == 0,\n",
    "                                     num_of_digs - 1,\n",
    "                                     df['Origin'] // gaps_between_digs\n",
    "                                 )\n",
    "    df['D Dig'] = np.where(\n",
    "                                     df['Destination'] == 0,\n",
    "                                     num_of_digs - 1,\n",
    "                                     df['Destination'] // gaps_between_digs\n",
    "                                 )\n",
    "    \n",
    "    df['OD Dig'] = df.apply(lambda row: str(row['O Dig'])+'_'+str(row['D Dig']),axis=1)\n",
    "\n",
    "\n",
    "    # 增加OD间的距离\n",
    "    print(\"增加OD间的距离\")\n",
    "    df['Distance'] = df['Destination'].sub(df['Origin']).where(df['Origin'] < df['Destination'], num_of_cells - df['Origin'] + df['Destination'])\n",
    "\n",
    "    # 在min_dist内的OD pair不被统计\n",
    "    print(\"删除极短距离行程\")\n",
    "    df = df[df['Distance'] > min_dist].reset_index(drop=True)\n",
    "    \n",
    "    # 为距离增加分组信息\n",
    "    print(\"为距离增加分组信息\")\n",
    "    df['Distance Dig'] = df['Distance'] // group_dist\n",
    "\n",
    "    # 增加红绿灯信息\n",
    "    print(\"增加红绿灯信息\")\n",
    "    df['Traffic Light'] = 0\n",
    "    for i in range(num_of_traffic_lights):\n",
    "        if i == num_of_traffic_lights - 1:\n",
    "            df['Traffic Light ' + str(i)] = (df['D Route'] < df['O Route']).astype(int)\n",
    "        else:\n",
    "            df['Traffic Light ' + str(i)] = ((df['O Route'] == i) & (df['O Route'] != df['D Route'])).astype(int)\n",
    "        df['Traffic Light'] += df['Traffic Light ' + str(i)]\n",
    "\n",
    "    \n",
    "    df.to_csv(f\"Feature/VehicleData_n{n}.csv\",encoding='utf-8',index=None)"
   ]
  },
  {
   "cell_type": "code",
   "execution_count": null,
   "metadata": {},
   "outputs": [],
   "source": [
    "df"
   ]
  },
  {
   "cell_type": "code",
   "execution_count": null,
   "metadata": {},
   "outputs": [],
   "source": [
    "group = df[df['Date'].between(2,3)].groupby(['OD Dig'])['Travel Time'].agg([('odh_mean','mean'),('odh_std','std'),('odh_count','count')]).reset_index()\n",
    "group"
   ]
  }
 ],
 "metadata": {
  "kernelspec": {
   "display_name": "Python 3",
   "language": "python",
   "name": "python3"
  },
  "language_info": {
   "codemirror_mode": {
    "name": "ipython",
    "version": 3
   },
   "file_extension": ".py",
   "mimetype": "text/x-python",
   "name": "python",
   "nbconvert_exporter": "python",
   "pygments_lexer": "ipython3",
   "version": "3.12.3"
  }
 },
 "nbformat": 4,
 "nbformat_minor": 2
}
